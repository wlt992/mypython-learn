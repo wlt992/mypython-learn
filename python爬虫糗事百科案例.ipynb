{
 "cells": [
  {
   "cell_type": "code",
   "execution_count": 3,
   "metadata": {
    "collapsed": false
   },
   "outputs": [
    {
     "ename": "SyntaxError",
     "evalue": "invalid syntax (<ipython-input-3-e5f3a38f6e2e>, line 1)",
     "output_type": "error",
     "traceback": [
      "\u001b[0;36m  File \u001b[0;32m\"<ipython-input-3-e5f3a38f6e2e>\"\u001b[0;36m, line \u001b[0;32m1\u001b[0m\n\u001b[0;31m    ```python\u001b[0m\n\u001b[0m             ^\u001b[0m\n\u001b[0;31mSyntaxError\u001b[0m\u001b[0;31m:\u001b[0m invalid syntax\n"
     ]
    }
   ],
   "source": [
    "```python\n",
    "import urllib\n",
    "import urllib2\n",
    "import re\n",
    "page = 2\n",
    "url = 'http://www.qiushibaike.com/hot/page/' + str(page)\n",
    "user_agent = 'Mozilla/4.0 (compatible; MSIE 5.5; Windows NT)'\n",
    "headers = {'User-Agent': user_agent}\n",
    "\n",
    "request = urllib2.Request(url, headers = headers)\n",
    "response = urllib2.urlopen(request)\n",
    "content = response.read().decode('utf-8')\n",
    "\n",
    "# 爬取作者, 主题, 点赞, 评论\n",
    "pattern = re.compile('<h2>(.*?)</h2>.*?<div class=\"content\">.*?<span>(.*?)</span>.*?<span class=\"stats-vote\">.*?(\\d+)</i>.*?<i class=\"number\">(\\d+)</i>.*?', re.S)\n",
    "items = re.findall(pattern, content)\n",
    "for item in items:\n",
    "    if len(item[1]) > 50: # 主题字数大于一定值的才输出, 过滤图片的主题\n",
    "        print item[1] + '\\n===================\\n'"
   ]
  },
  {
   "cell_type": "code",
   "execution_count": null,
   "metadata": {
    "collapsed": true
   },
   "outputs": [],
   "source": []
  }
 ],
 "metadata": {
  "kernelspec": {
   "display_name": "Python [conda root]",
   "language": "python",
   "name": "conda-root-py"
  },
  "language_info": {
   "codemirror_mode": {
    "name": "ipython",
    "version": 2
   },
   "file_extension": ".py",
   "mimetype": "text/x-python",
   "name": "python",
   "nbconvert_exporter": "python",
   "pygments_lexer": "ipython2",
   "version": "2.7.12"
  }
 },
 "nbformat": 4,
 "nbformat_minor": 1
}
